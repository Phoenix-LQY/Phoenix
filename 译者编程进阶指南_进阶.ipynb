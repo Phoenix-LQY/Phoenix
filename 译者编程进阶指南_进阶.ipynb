{
  "nbformat": 4,
  "nbformat_minor": 0,
  "metadata": {
    "colab": {
      "provenance": [],
      "include_colab_link": true
    },
    "kernelspec": {
      "name": "python3",
      "display_name": "Python 3"
    },
    "language_info": {
      "name": "python"
    }
  },
  "cells": [
    {
      "cell_type": "markdown",
      "metadata": {
        "id": "view-in-github",
        "colab_type": "text"
      },
      "source": [
        "<a href=\"https://colab.research.google.com/github/Phoenix-LQY/Phoenix/blob/main/%E8%AF%91%E8%80%85%E7%BC%96%E7%A8%8B%E8%BF%9B%E9%98%B6%E6%8C%87%E5%8D%97_%E8%BF%9B%E9%98%B6.ipynb\" target=\"_parent\"><img src=\"https://colab.research.google.com/assets/colab-badge.svg\" alt=\"Open In Colab\"/></a>"
      ]
    },
    {
      "cell_type": "markdown",
      "source": [
        "**译者编程进阶指南**\n",
        "\n",
        "韩林涛 北京语言大学高级翻译学院\n",
        "\n",
        "**说明：**\n",
        "\n",
        "本书稿为《译者编程进阶指南》的草稿，首先以讲义的形式撰写，通过循序渐进的方法引导翻译专业学生掌握处理多语言文本过程中需要掌握的编程技能。本书使用的主要编程语言为：Python。\n",
        "\n",
        "在写作过程中，欢迎大家通过邮件联系我反馈意见和建议。\n",
        "\n",
        "联系邮箱：hanlintao#blcu.edu.cn (#改为@)"
      ],
      "metadata": {
        "id": "T_tBLbuqJ-Kq"
      }
    },
    {
      "cell_type": "markdown",
      "source": [
        "**一、如何调用大语言模型**\n",
        "\n"
      ],
      "metadata": {
        "id": "1MrCLH4xKwdR"
      }
    },
    {
      "cell_type": "code",
      "execution_count": 1,
      "metadata": {
        "colab": {
          "base_uri": "https://localhost:8080/"
        },
        "id": "ko-PdaprJ8xP",
        "outputId": "3bba40d0-6bee-4b8d-f9a1-1131adec85a0"
      },
      "outputs": [
        {
          "output_type": "stream",
          "name": "stdout",
          "text": [
            "Collecting zhipuai\n",
            "  Downloading zhipuai-2.1.5.20250825-py3-none-any.whl.metadata (8.8 kB)\n",
            "Requirement already satisfied: cachetools>=4.2.2 in /usr/local/lib/python3.12/dist-packages (from zhipuai) (5.5.2)\n",
            "Requirement already satisfied: httpx>=0.23.0 in /usr/local/lib/python3.12/dist-packages (from zhipuai) (0.28.1)\n",
            "Requirement already satisfied: pydantic<3.0,>=1.9.0 in /usr/local/lib/python3.12/dist-packages (from zhipuai) (2.11.10)\n",
            "Requirement already satisfied: pydantic-core>=2.14.6 in /usr/local/lib/python3.12/dist-packages (from zhipuai) (2.33.2)\n",
            "Collecting pyjwt<2.9.0,>=2.8.0 (from zhipuai)\n",
            "  Downloading PyJWT-2.8.0-py3-none-any.whl.metadata (4.2 kB)\n",
            "Requirement already satisfied: anyio in /usr/local/lib/python3.12/dist-packages (from httpx>=0.23.0->zhipuai) (4.11.0)\n",
            "Requirement already satisfied: certifi in /usr/local/lib/python3.12/dist-packages (from httpx>=0.23.0->zhipuai) (2025.10.5)\n",
            "Requirement already satisfied: httpcore==1.* in /usr/local/lib/python3.12/dist-packages (from httpx>=0.23.0->zhipuai) (1.0.9)\n",
            "Requirement already satisfied: idna in /usr/local/lib/python3.12/dist-packages (from httpx>=0.23.0->zhipuai) (3.11)\n",
            "Requirement already satisfied: h11>=0.16 in /usr/local/lib/python3.12/dist-packages (from httpcore==1.*->httpx>=0.23.0->zhipuai) (0.16.0)\n",
            "Requirement already satisfied: annotated-types>=0.6.0 in /usr/local/lib/python3.12/dist-packages (from pydantic<3.0,>=1.9.0->zhipuai) (0.7.0)\n",
            "Requirement already satisfied: typing-extensions>=4.12.2 in /usr/local/lib/python3.12/dist-packages (from pydantic<3.0,>=1.9.0->zhipuai) (4.15.0)\n",
            "Requirement already satisfied: typing-inspection>=0.4.0 in /usr/local/lib/python3.12/dist-packages (from pydantic<3.0,>=1.9.0->zhipuai) (0.4.2)\n",
            "Requirement already satisfied: sniffio>=1.1 in /usr/local/lib/python3.12/dist-packages (from anyio->httpx>=0.23.0->zhipuai) (1.3.1)\n",
            "Downloading zhipuai-2.1.5.20250825-py3-none-any.whl (119 kB)\n",
            "\u001b[2K   \u001b[90m━━━━━━━━━━━━━━━━━━━━━━━━━━━━━━━━━━━━━━━━\u001b[0m \u001b[32m119.1/119.1 kB\u001b[0m \u001b[31m3.5 MB/s\u001b[0m eta \u001b[36m0:00:00\u001b[0m\n",
            "\u001b[?25hDownloading PyJWT-2.8.0-py3-none-any.whl (22 kB)\n",
            "Installing collected packages: pyjwt, zhipuai\n",
            "  Attempting uninstall: pyjwt\n",
            "    Found existing installation: PyJWT 2.10.1\n",
            "    Uninstalling PyJWT-2.10.1:\n",
            "      Successfully uninstalled PyJWT-2.10.1\n",
            "Successfully installed pyjwt-2.8.0 zhipuai-2.1.5.20250825\n"
          ]
        }
      ],
      "source": [
        "#安装智谱AI的Python库\n",
        "\n",
        "!pip install zhipuai"
      ]
    },
    {
      "cell_type": "code",
      "source": [
        "!pip install --upgrade zhipuai"
      ],
      "metadata": {
        "colab": {
          "base_uri": "https://localhost:8080/"
        },
        "id": "5w-hT-dyLluW",
        "outputId": "8573ef77-eea8-48ab-ab76-886ab4a0adc2"
      },
      "execution_count": 2,
      "outputs": [
        {
          "output_type": "stream",
          "name": "stdout",
          "text": [
            "Requirement already satisfied: zhipuai in /usr/local/lib/python3.12/dist-packages (2.1.5.20250825)\n",
            "Requirement already satisfied: cachetools>=4.2.2 in /usr/local/lib/python3.12/dist-packages (from zhipuai) (5.5.2)\n",
            "Requirement already satisfied: httpx>=0.23.0 in /usr/local/lib/python3.12/dist-packages (from zhipuai) (0.28.1)\n",
            "Requirement already satisfied: pydantic<3.0,>=1.9.0 in /usr/local/lib/python3.12/dist-packages (from zhipuai) (2.11.10)\n",
            "Requirement already satisfied: pydantic-core>=2.14.6 in /usr/local/lib/python3.12/dist-packages (from zhipuai) (2.33.2)\n",
            "Requirement already satisfied: pyjwt<2.9.0,>=2.8.0 in /usr/local/lib/python3.12/dist-packages (from zhipuai) (2.8.0)\n",
            "Requirement already satisfied: anyio in /usr/local/lib/python3.12/dist-packages (from httpx>=0.23.0->zhipuai) (4.11.0)\n",
            "Requirement already satisfied: certifi in /usr/local/lib/python3.12/dist-packages (from httpx>=0.23.0->zhipuai) (2025.10.5)\n",
            "Requirement already satisfied: httpcore==1.* in /usr/local/lib/python3.12/dist-packages (from httpx>=0.23.0->zhipuai) (1.0.9)\n",
            "Requirement already satisfied: idna in /usr/local/lib/python3.12/dist-packages (from httpx>=0.23.0->zhipuai) (3.11)\n",
            "Requirement already satisfied: h11>=0.16 in /usr/local/lib/python3.12/dist-packages (from httpcore==1.*->httpx>=0.23.0->zhipuai) (0.16.0)\n",
            "Requirement already satisfied: annotated-types>=0.6.0 in /usr/local/lib/python3.12/dist-packages (from pydantic<3.0,>=1.9.0->zhipuai) (0.7.0)\n",
            "Requirement already satisfied: typing-extensions>=4.12.2 in /usr/local/lib/python3.12/dist-packages (from pydantic<3.0,>=1.9.0->zhipuai) (4.15.0)\n",
            "Requirement already satisfied: typing-inspection>=0.4.0 in /usr/local/lib/python3.12/dist-packages (from pydantic<3.0,>=1.9.0->zhipuai) (0.4.2)\n",
            "Requirement already satisfied: sniffio>=1.1 in /usr/local/lib/python3.12/dist-packages (from anyio->httpx>=0.23.0->zhipuai) (1.3.1)\n"
          ]
        }
      ]
    },
    {
      "cell_type": "code",
      "source": [
        "#引入智谱AI API\n",
        "\n",
        "from zhipuai import ZhipuAI\n",
        "client = ZhipuAI(api_key=\"b30b2846d5772a68a99d8a78d8075206.yYYC8m8NJfEVOfIe\") # 填写您自己的APIKey"
      ],
      "metadata": {
        "id": "68klQpExVmHW"
      },
      "execution_count": 3,
      "outputs": []
    },
    {
      "cell_type": "code",
      "source": [
        "#尝试问第一个问题\n",
        "\n",
        "\n",
        "response = client.chat.completions.create(\n",
        "    model=\"glm-4\",  # 填写需要调用的模型名称\n",
        "    messages=[\n",
        "        {\"role\": \"user\", \"content\": \"你好\"},\n",
        "        {\"role\": \"assistant\", \"content\": \"我是人工智能助手\"},\n",
        "        {\"role\": \"user\", \"content\": \"你叫什么名字\"},\n",
        "        {\"role\": \"assistant\", \"content\": \"我叫chatGLM\"},\n",
        "        {\"role\": \"user\", \"content\": \"你都可以做些什么事\"}\n",
        "    ],\n",
        ")\n",
        "print(response.choices[0].message)"
      ],
      "metadata": {
        "colab": {
          "base_uri": "https://localhost:8080/"
        },
        "id": "HV9NOH78L2BM",
        "outputId": "2f043c91-2506-4aca-c587-4fed8455003d"
      },
      "execution_count": null,
      "outputs": [
        {
          "output_type": "stream",
          "name": "stdout",
          "text": [
            "CompletionMessage(content='作为一个基于语言模型的人工智能助手，我可以帮助您完成以下事情：\\n\\n1. 回答问题：我可以回答各种各样的问题，包括科学、数学、历史、文化、技术等领域的问题。\\n\\n2. 文本生成：我可以撰写文章、故事、诗歌等文本内容。\\n\\n3. 语言翻译：我可以帮助您翻译不同语言。\\n\\n4. 编程帮助：我可以提供编程指导、解释代码问题、帮助调试程序。\\n\\n5. 学习辅导：我可以帮助您学习新知识，解释复杂概念。\\n\\n6. 生活建议：我可以提供一些基本的生活建议，如健康、健身、饮食等。\\n\\n7. 娱乐互动：我可以参与简单的聊天，提供笑话、谜语等娱乐内容。\\n\\n8. 信息抽取：我可以从大量文本中提取关键信息。\\n\\n9. 数据分析：我可以帮助您理解和解释数据分析的结果。\\n\\n请注意，虽然我力图提供准确和有用的信息，但我的知识是基于训练数据集的，因此可能不包含最新的信息或特定领域的深入知识。在使用我的建议时，请结合实际情况进行判断。', role='assistant', reasoning_content=None, tool_calls=None)\n"
          ]
        }
      ]
    },
    {
      "cell_type": "markdown",
      "source": [
        "**二、使用大语言模型完成文本翻译**"
      ],
      "metadata": {
        "id": "A6vcM8DjYyK_"
      }
    },
    {
      "cell_type": "code",
      "source": [
        "#尝试问一个翻译的问题\n",
        "\n",
        "response = client.chat.completions.create(\n",
        "    model=\"glm-4\",  # 填写需要调用的模型名称\n",
        "    messages=[\n",
        "        {\"role\": \"user\", \"content\": \"请将下面的句子翻译成中文：To be, or not to be, that is the question\"}\n",
        "    ],\n",
        ")\n",
        "print(response.choices[0].message)"
      ],
      "metadata": {
        "colab": {
          "base_uri": "https://localhost:8080/"
        },
        "id": "WVP0G1xkME3_",
        "outputId": "d87e5b96-f043-40b7-c4ee-96564162e4f6"
      },
      "execution_count": null,
      "outputs": [
        {
          "output_type": "stream",
          "name": "stdout",
          "text": [
            "content='生存还是毁灭，这是一个值得考虑的问题。这句话出自莎士比亚的《哈姆雷特》。' role='assistant' tool_calls=None\n"
          ]
        }
      ]
    },
    {
      "cell_type": "code",
      "source": [
        "#这里需要了解JSON的基础知识，知道发送给LLM的是什么，接收到的是什么"
      ],
      "metadata": {
        "id": "pkOoz9nmM-Kw"
      },
      "execution_count": null,
      "outputs": []
    },
    {
      "cell_type": "markdown",
      "source": [
        "前往GLM的文档页面可以看到返回结果的说明：https://open.bigmodel.cn/dev/api#glm-4\n",
        "\n",
        "content：消息内容。其中包括了tool_calls字段,content字段为空。\n",
        "\n",
        "role：消息的角色信息，此时应为assistant\n",
        "\n",
        "tool_calls：模型产生的工具调用消息"
      ],
      "metadata": {
        "id": "4rnW02mfNRFH"
      }
    },
    {
      "cell_type": "code",
      "source": [
        "print(response.choices[0].message.content)"
      ],
      "metadata": {
        "colab": {
          "base_uri": "https://localhost:8080/"
        },
        "id": "bvQ6NCzfOSLc",
        "outputId": "7b74f2a7-acc6-4903-e4a0-8c09430916b9"
      },
      "execution_count": null,
      "outputs": [
        {
          "output_type": "stream",
          "name": "stdout",
          "text": [
            "生存还是毁灭，这是一个值得考虑的问题。这句话出自莎士比亚的《哈姆雷特》。\n"
          ]
        }
      ]
    },
    {
      "cell_type": "code",
      "source": [
        "#生成一个Python列表\n",
        "\n",
        "response = client.chat.completions.create(\n",
        "    model=\"glm-4\",  # 填写需要调用的模型名称\n",
        "    messages=[\n",
        "        {\"role\": \"user\", \"content\": \"生成一个Python列表，里面有十句介绍中美贸易战近况的英文句子\"}\n",
        "    ],\n",
        ")\n",
        "print(response.choices[0].message.content)"
      ],
      "metadata": {
        "colab": {
          "base_uri": "https://localhost:8080/"
        },
        "id": "mmr0BAb8OqKu",
        "outputId": "8542821c-682a-486d-a0a9-b750e4365f04"
      },
      "execution_count": 4,
      "outputs": [
        {
          "output_type": "stream",
          "name": "stdout",
          "text": [
            "Here is a Python list containing ten English sentences introducing the recent situation of the U.S.-China trade war:\n",
            "\n",
            "```python\n",
            "recent_trade_war_updates = [\n",
            "    \"The latest negotiations between the U.S. and China have shown some signs of progress in resolving the ongoing trade war.\",\n",
            "    \"Both countries have agreed to a temporary truce, vowing to refrain from imposing new tariffs while talks continue.\",\n",
            "    \"The trade war has had a significant impact on global supply chains, causing disruptions for many businesses.\",\n",
            "    \"Despite the tensions, U.S. exports to China have increased in certain sectors, indicating that trade is not entirely halted.\",\n",
            "    \"China has accused the U.S. of using the trade war as a means to contain its economic growth and technological advancement.\",\n",
            "    \"The U.S. government has imposed tariffs on a wide range of Chinese goods, including electronics, machinery, and apparel.\",\n",
            "    \"In response, China has retaliated by imposing tariffs on U.S. agricultural products, such as soybeans and pork.\",\n",
            "    \"The trade war has led to job losses and economic uncertainty in both countries, prompting calls for a swift resolution.\",\n",
            "    \"Some analysts believe that finding a mutually beneficial agreement will be challenging due to the deep-seated differences between the two nations.\",\n",
            "    \"The global community is closely monitoring the trade war's developments, as its outcome could have far-reaching implications for the world economy.\"\n",
            "]\n",
            "```\n",
            "\n",
            "Feel free to modify the sentences to suit your specific needs or to provide the most up-to-date information on the U.S.-China trade war.\n"
          ]
        }
      ]
    },
    {
      "cell_type": "markdown",
      "source": [
        "shakespeare_quotes = [\n",
        "    \"To be, or not to be: that is the question. (Hamlet)\",\n",
        "    \"All the world's a stage, and all the men and women merely players. (As You Like It)\",\n",
        "    \"What's in a name? That which we call a rose by any other name would smell as sweet. (Romeo and Juliet)\"]\n",
        "\n",
        "主要步骤:\n",
        "\n",
        "1. 定义一个名为shakespeare_quotes 的列表变量\n",
        "2. 使用方括号[]定义列表\n",
        "3. 在列表中添加三个字符串元素,分别表示三句莎士比亚名句，列表元素中包含的字符串需要用双引号\"\"括起来。"
      ],
      "metadata": {
        "id": "J-hePmLEO3qT"
      }
    },
    {
      "cell_type": "code",
      "source": [
        "#遍历列表，逐句翻译\n",
        "\n",
        "us_china_trade_war_sentences = [\n",
        "    \"The United States and China have agreed on a framework deal ahead of the Trump-Xi meeting.\",\n",
        "\"China will delay rare earth export restrictions as part of the temporary truce.\",\n",
        "\"Trump has threatened to reimpose 100 % tariffs on Chinese goods if talks fail.\",\n",
        "\"China expanded export controls to include several rare earth minerals this October.\",\n",
        "\"The two sides have reduced tariffs temporarily — from 145 % to 30 % on Chinese goods, and from 125 % to 10 % on U.S. goods.\",\n",
        "\"Investors hope the meeting between Trump and Xi will de-escalate tensions.\",\n",
        "\"The recent truce still leaves tariffs far higher than before the conflict.\",\n",
        "\"China criticized the U.S. for abusing tariff authority and destabilizing global markets.\",\n",
        "\"The U.S. warned that further rare earth export controls may push the world to decouple from China.\",\n",
        "\"Underlying disputes over technology, subsidies, and supply chains continue despite the agreement.\"\n",
        "]\n",
        "\n",
        "for sentence in us_china_trade_war_sentences:\n",
        "  response = client.chat.completions.create(\n",
        "    model=\"glm-4\",\n",
        "    messages=[\n",
        "    {\"role\": \"user\", \"content\": f\"请将下面的句子翻译成中文:{sentence}\"}\n",
        "    ],\n",
        "  )\n",
        "  print(response.choices[0].message.content)"
      ],
      "metadata": {
        "colab": {
          "base_uri": "https://localhost:8080/"
        },
        "id": "doLM3R0wPLAG",
        "outputId": "f1d694f9-6fd9-48bd-e3d5-da9daa21b05f"
      },
      "execution_count": 5,
      "outputs": [
        {
          "output_type": "stream",
          "name": "stdout",
          "text": [
            "美国和中国在特朗普与习近平会面前达成了一项框架协议。\n",
            "中国将推迟实施稀土出口限制，作为临时停火协议的一部分。\n",
            "特朗普威胁称，如果谈判失败，将重新对中国商品加征100%的关税。\n",
            "中国在今年十月扩大了出口控制范围，将数种稀土矿物纳入其中。\n",
            "双方暂时降低了关税——中国商品的关税从145%降至30%，美国商品的关税从125%降至10%。\n",
            "投资者希望特朗普和习近平的会晤能够缓和紧张局势。\n",
            "最近的停战仍然使得关税远高于冲突前的水平。\n",
            "中国批评美国滥用关税权力，扰乱全球市场。\n",
            "美国警告称，进一步加强对稀土出口的控制可能会推动世界与中国脱钩。\n",
            "尽管达成了协议，但关于技术、补贴和供应链的潜在争端仍在继续。\n"
          ]
        }
      ]
    },
    {
      "cell_type": "markdown",
      "source": [
        "本案例涉及到的Python主要知识点包括：\n",
        "\n",
        "1. 使用Python安装和调用大语言模型API\n",
        "\n",
        "2. 读取和打印JSON格式的大语言模型响应数据\n",
        "\n",
        "3. Python列表的创建和遍历\n",
        "\n",
        "4. Python循环"
      ],
      "metadata": {
        "id": "b7eDpAHlPz74"
      }
    },
    {
      "cell_type": "markdown",
      "source": [
        "**三、使用大语言模型完成术语抽取**"
      ],
      "metadata": {
        "id": "5uXLm684VtXQ"
      }
    },
    {
      "cell_type": "code",
      "source": [
        "#使用智谱AI API 抽取并以JSON格式输出\n",
        "\n",
        "prompt = '''\n",
        "2022年11月4日，计算机系通过线上线下相结合的方式在东主楼10-103会议室召开博士研究生导师交流会。计算机学科学位分委员会主席吴空，计算机系副主任张建、党委副书记李伟出席会议，博士生研究生导师和教学办工作人员等30余人参加会议，会议由张建主持。\n",
        "请你提取包含“人\"(name, position)，“时间”，“事件\"，“地点”（location）类型的所有信息，并输出JSON格式\n",
        "\n",
        "'''\n",
        "\n",
        "response = client.chat.completions.create(\n",
        "    model=\"glm-4\",  # 填写需要调用的模型名称\n",
        "    messages=[\n",
        "        {\"role\": \"user\", \"content\": prompt}\n",
        "    ],\n",
        ")\n",
        "print(response.choices[0].message.content)"
      ],
      "metadata": {
        "colab": {
          "base_uri": "https://localhost:8080/"
        },
        "id": "tTATCb4qVvOz",
        "outputId": "5057d890-2a9d-4b29-c824-946be446462c"
      },
      "execution_count": null,
      "outputs": [
        {
          "output_type": "stream",
          "name": "stdout",
          "text": [
            "以下是提取的信息，以JSON格式输出：\n",
            "\n",
            "```json\n",
            "{\n",
            "  \"人\": [\n",
            "    {\n",
            "      \"name\": \"吴空\",\n",
            "      \"position\": \"计算机学科学位分委员会主席\"\n",
            "    },\n",
            "    {\n",
            "      \"name\": \"张建\",\n",
            "      \"position\": \"计算机系副主任\"\n",
            "    },\n",
            "    {\n",
            "      \"name\": \"李伟\",\n",
            "      \"position\": \"党委副书记\"\n",
            "    },\n",
            "    {\n",
            "      \"name\": \"博士生研究生导师和教学办工作人员\",\n",
            "      \"position\": \"参会人员\",\n",
            "      \"number\": \"30余人\"\n",
            "    }\n",
            "  ],\n",
            "  \"时间\": \"2022年11月4日\",\n",
            "  \"事件\": \"博士研究生导师交流会\",\n",
            "  \"地点\": \"东主楼10-103会议室\",\n",
            "  \"主持人\": \"张建\"\n",
            "}\n",
            "```\n",
            "\n",
            "请注意，由于原始文本没有提供具体的参会人员名单，我使用了“博士生研究生导师和教学办工作人员”作为参会人员的描述，并估计了人数为“30余人”。如果需要更详细的信息，可能需要查阅具体的会议记录或其他相关文档。\n"
          ]
        }
      ]
    },
    {
      "cell_type": "code",
      "source": [
        "#使用智谱AI API 抽取并以JSON格式输出\n",
        "\n",
        "prompt = '''\n",
        "数字服务贸易作为一种新型贸易模式，学术界对其内涵和范围界定并未统一。2012年，美国商务部经济分析局首次提出“数字化服务贸易”概念，将其定义为“由于信息通信技术进步而实现的跨境服务贸易”，包括版权和许可费、金融和保险产品、长途通信、商业、专业和技术服务等，主要用来衡量美国国际数字服务贸易发展。联合国贸易和发展会议提出“数字化交付服务”概念，将其定义为“通过信息通信网络跨境交付的所有服务贸易”，主要包括养老和保险服务、金融服务、知识产权使用费等。马述忠等（2018）认为，数字服务贸易是数字贸易的重要组成部分，实体货物也应该纳入数字贸易标的中。2020年3月，经济合作与发展组织、世界贸易组织和国际货币基金组织联合发布《数字贸易测度手册》，按照交易方式将数字贸易分为数字订购贸易和数字交付贸易。为了便于开展国际比较分析，中国商务部发布的《中国数字贸易发展报告2021》在《数字贸易测度手册》提出的概念框架基础上，按照交易标的将数字交付贸易细分为数字技术贸易、数字服务贸易、数字产品贸易和数据贸易，并将数字服务贸易定义为“以全部或部分通过数字形式交付的跨境服务贸易，包括互联网平台服务、数字金融与保险以及管理与咨询等传统服务的数字交付部分”。请你提取这段话中的中文术语，并翻译成英文，给出中文解释，并输出JSON格式，参考样式为：\"chinese\":\"\",\"english\":\"\",\"explanation\":\"\"\n",
        "\n",
        "'''\n",
        "\n",
        "response = client.chat.completions.create(\n",
        "    model=\"glm-4\",  # 填写需要调用的模型名称\n",
        "    messages=[\n",
        "        {\"role\": \"user\", \"content\": prompt}\n",
        "    ],\n",
        ")\n",
        "print(response.choices[0].message.content)"
      ],
      "metadata": {
        "colab": {
          "base_uri": "https://localhost:8080/"
        },
        "id": "cv_5e43tWYQI",
        "outputId": "860343bf-d07e-41df-e863-1506970ffd94"
      },
      "execution_count": 7,
      "outputs": [
        {
          "output_type": "stream",
          "name": "stdout",
          "text": [
            "以下是提取的中文术语及其英文翻译和解释，以JSON格式展示：\n",
            "\n",
            "```json\n",
            "[\n",
            "  {\n",
            "    \"chinese\": \"数字服务贸易\",\n",
            "    \"english\": \"Digital Service Trade\",\n",
            "    \"explanation\": \"A type of cross-border service trade that is enabled by digital means, including internet platform services, digital finance and insurance, and digital delivery of traditional services like management and consulting.\"\n",
            "  },\n",
            "  {\n",
            "    \"chinese\": \"信息通信技术\",\n",
            "    \"english\": \"Information and Communication Technology (ICT)\",\n",
            "    \"explanation\": \"Technology that deals with the use of electronic devices for communication purposes, including the internet and other networking components.\"\n",
            "  },\n",
            "  {\n",
            "    \"chinese\": \"跨境服务贸易\",\n",
            "    \"english\": \"Cross-border Service Trade\",\n",
            "    \"explanation\": \"Trade in services that occurs between providers and consumers across national borders.\"\n",
            "  },\n",
            "  {\n",
            "    \"chinese\": \"版权和许可费\",\n",
            "    \"english\": \"Copyrights and Licensing Fees\",\n",
            "    \"explanation\": \"Payments made for the use of copyrighted materials or for permission to use certain intellectual properties.\"\n",
            "  },\n",
            "  {\n",
            "    \"chinese\": \"金融和保险产品\",\n",
            "    \"english\": \"Financial and Insurance Products\",\n",
            "    \"explanation\": \"Products and services offered by the financial and insurance industries.\"\n",
            "  },\n",
            "  {\n",
            "    \"chinese\": \"长途通信\",\n",
            "    \"english\": \"Long-distance Communication\",\n",
            "    \"explanation\": \"Communication that takes place over a distance, typically using telecommunications infrastructure.\"\n",
            "  },\n",
            "  {\n",
            "    \"chinese\": \"商业、专业和技术服务\",\n",
            "    \"english\": \"Business, Professional, and Technical Services\",\n",
            "    \"explanation\": \"Services that include commercial activities, specialized professional work, and technical support or expertise.\"\n",
            "  },\n",
            "  {\n",
            "    \"chinese\": \"数字化交付服务\",\n",
            "    \"english\": \"Digitally Delivered Services\",\n",
            "    \"explanation\": \"Services that are delivered cross-border through information and communication networks.\"\n",
            "  },\n",
            "  {\n",
            "    \"chinese\": \"养老和保险服务\",\n",
            "    \"english\": \"Pension and Insurance Services\",\n",
            "    \"explanation\": \"Services related to retirement provision and risk coverage through insurance.\"\n",
            "  },\n",
            "  {\n",
            "    \"chinese\": \"知识产权使用费\",\n",
            "    \"english\": \"Intellectual Property Usage Fees\",\n",
            "    \"explanation\": \"Fees paid for the use of intellectual property rights such as patents, trademarks, and copyrights.\"\n",
            "  },\n",
            "  {\n",
            "    \"chinese\": \"数字贸易\",\n",
            "    \"english\": \"Digital Trade\",\n",
            "    \"explanation\": \"Trade conducted through digital means, encompassing both digital services and physical goods that are traded digitally.\"\n",
            "  },\n",
            "  {\n",
            "    \"chinese\": \"数字订购贸易\",\n",
            "    \"english\": \"Digital Ordered Trade\",\n",
            "    \"explanation\": \"A type of digital trade where transactions are initiated through digital platforms but may involve physical delivery of goods or services.\"\n",
            "  },\n",
            "  {\n",
            "    \"chinese\": \"数字交付贸易\",\n",
            "    \"english\": \"Digital Delivered Trade\",\n",
            "    \"explanation\": \"A type of digital trade where the delivery of goods or services is fully or partially digital.\"\n",
            "  },\n",
            "  {\n",
            "    \"chinese\": \"数字技术贸易\",\n",
            "    \"english\": \"Digital Technology Trade\",\n",
            "    \"explanation\": \"Trade in technologies that facilitate digital transactions, such as software or digital infrastructure.\"\n",
            "  },\n",
            "  {\n",
            "    \"chinese\": \"数字产品贸易\",\n",
            "    \"english\": \"Digital Product Trade\",\n",
            "    \"explanation\": \"Trade in digital goods, which are intangible products delivered over digital networks.\"\n",
            "  },\n",
            "  {\n",
            "    \"chinese\": \"数据贸易\",\n",
            "    \"english\": \"Data Trade\",\n",
            "    \"explanation\": \"Trade involving the exchange of data, which can include both commercial and non-commercial data.\"\n",
            "  }\n",
            "]\n",
            "```\n",
            "\n",
            "请注意，这些术语的翻译和解释基于当前使用的标准定义，并在必要时根据上下文进行适配。\n"
          ]
        }
      ]
    },
    {
      "cell_type": "code",
      "source": [
        "import re\n",
        "import json\n",
        "import pandas as pd\n",
        "from datetime import datetime\n",
        "from openpyxl.styles import Font, PatternFill, Alignment\n",
        "\n",
        "# 你的原有代码\n",
        "prompt = '''\n",
        "数字服务贸易作为一种新型贸易模式，学术界对其内涵和范围界定并未统一。2012年，美国商务部经济分析局首次提出\"数字化服务贸易\"概念，将其定义为\"由于信息通信技术进步而实现的跨境服务贸易\"，包括版权和许可费、金融和保险产品、长途通信、商业、专业和技术服务等，主要用来衡量美国国际数字服务贸易发展。联合国贸易和发展会议提出\"数字化交付服务\"概念，将其定义为\"通过信息通信网络跨境交付的所有服务贸易\"，主要包括养老和保险服务、金融服务、知识产权使用费等。马述忠等（2018）认为，数字服务贸易是数字贸易的重要组成部分，实体货物也应该纳入数字贸易标的中。2020年3月，经济合作与发展组织、世界贸易组织和国际货币基金组织联合发布《数字贸易测度手册》，按照交易方式将数字贸易分为数字订购贸易和数字交付贸易。为了便于开展国际比较分析，中国商务部发布的《中国数字贸易发展报告2021》在《数字贸易测度手册》提出的概念框架基础上，按照交易标的将数字交付贸易细分为数字技术贸易、数字服务贸易、数字产品贸易和数据贸易，并将数字服务贸易定义为\"以全部或部分通过数字形式交付的跨境服务贸易，包括互联网平台服务、数字金融与保险以及管理与咨询等传统服务的数字交付部分\"。请你提取这段话中的中文术语，并翻译成英文，给出中文解释，并输出JSON格式，参考样式为：\"chinese\":\"\",\"english\":\"\",\"explanation\":\"\"\n",
        "'''\n",
        "\n",
        "response = client.chat.completions.create(\n",
        "    model=\"glm-4\",\n",
        "    messages=[\n",
        "        {\"role\": \"user\", \"content\": prompt}\n",
        "    ],\n",
        ")\n",
        "\n",
        "# 打印原始响应内容\n",
        "print(\"API响应内容:\")\n",
        "print(response.choices[0].message.content)\n",
        "print(\"\\n\" + \"=\"*80 + \"\\n\")\n",
        "\n",
        "# 优化后的导出代码\n",
        "def export_vocabulary_to_excel(response, filename=None):\n",
        "    \"\"\"\n",
        "    从API响应中提取词汇数据并导出为Excel文件\n",
        "\n",
        "    Args:\n",
        "        response: API响应对象\n",
        "        filename: 导出的Excel文件名\n",
        "    \"\"\"\n",
        "    try:\n",
        "        content = response.choices[0].message.content\n",
        "\n",
        "        # 提取JSON字符串\n",
        "        json_match = re.search(r'```json\\s*(.*?)\\s*```', content, re.S | re.I)\n",
        "        if json_match:\n",
        "            json_str = json_match.group(1)\n",
        "        else:\n",
        "            # 如果没有代码块，尝试直接查找JSON数组\n",
        "            json_match = re.search(r'\\[\\s*\\{.*?\\}\\s*\\]', content, re.S)\n",
        "            if json_match:\n",
        "                json_str = json_match.group(0)\n",
        "            else:\n",
        "                raise ValueError(\"未找到有效的JSON数据\")\n",
        "\n",
        "        # 清理JSON字符串\n",
        "        json_str = json_str.strip()\n",
        "\n",
        "        # 解析JSON数据\n",
        "        data = json.loads(json_str)\n",
        "\n",
        "        # 验证数据格式\n",
        "        if not isinstance(data, list):\n",
        "            raise ValueError(\"JSON数据不是数组格式\")\n",
        "\n",
        "        # 创建DataFrame\n",
        "        df = pd.DataFrame(data)\n",
        "\n",
        "        # 检查必需字段\n",
        "        required_fields = ['chinese', 'english', 'explanation']\n",
        "        for field in required_fields:\n",
        "            if field not in df.columns:\n",
        "                raise ValueError(f\"缺少必需字段: {field}\")\n",
        "\n",
        "        # 生成文件名\n",
        "        if filename is None:\n",
        "            timestamp = datetime.now().strftime(\"%Y%m%d_%H%M%S\")\n",
        "            filename = f\"数字服务贸易术语_{timestamp}.xlsx\"\n",
        "        elif not filename.endswith('.xlsx'):\n",
        "            filename += '.xlsx'\n",
        "\n",
        "        # 导出到Excel\n",
        "        with pd.ExcelWriter(filename, engine='openpyxl') as writer:\n",
        "            df.to_excel(writer, sheet_name='术语表', index=False)\n",
        "\n",
        "            # 获取工作表\n",
        "            worksheet = writer.sheets['术语表']\n",
        "\n",
        "            # 设置列宽\n",
        "            column_widths = {\n",
        "                'chinese': 20,\n",
        "                'english': 30,\n",
        "                'explanation': 50\n",
        "            }\n",
        "\n",
        "            # 设置列宽\n",
        "            for idx, col_name in enumerate(df.columns):\n",
        "                col_letter = chr(65 + idx)  # A, B, C, ...\n",
        "                width = column_widths.get(col_name, 15)\n",
        "                worksheet.column_dimensions[col_letter].width = width\n",
        "\n",
        "            # 设置标题行样式\n",
        "            header_fill = PatternFill(start_color=\"366092\", end_color=\"366092\", fill_type=\"solid\")\n",
        "            header_font = Font(color=\"FFFFFF\", bold=True)\n",
        "\n",
        "            for cell in worksheet[1]:\n",
        "                cell.fill = header_fill\n",
        "                cell.font = header_font\n",
        "                cell.alignment = Alignment(horizontal='center', vertical='center')\n",
        "\n",
        "        print(f\"✅ 数据已成功导出到: {filename}\")\n",
        "        print(f\"📊 共导出 {len(df)} 条术语记录\")\n",
        "\n",
        "        # 显示数据预览\n",
        "        print(\"\\n📋 数据预览:\")\n",
        "        print(\"-\" * 100)\n",
        "        print(f\"{'中文术语':<15} | {'英文翻译':<25} | {'解释说明'}\")\n",
        "        print(\"-\" * 100)\n",
        "        for term in data:\n",
        "            chinese = term.get('chinese', '')[:12] + '...' if len(term.get('chinese', '')) > 12 else term.get('chinese', '')\n",
        "            english = term.get('english', '')[:22] + '...' if len(term.get('english', '')) > 22 else term.get('english', '')\n",
        "            explanation = term.get('explanation', '')[:40] + '...' if len(term.get('explanation', '')) > 40 else term.get('explanation', '')\n",
        "            print(f\"{chinese:<15} | {english:<25} | {explanation}\")\n",
        "\n",
        "        return filename\n",
        "\n",
        "    except json.JSONDecodeError as e:\n",
        "        print(f\"❌ JSON解析错误: {e}\")\n",
        "        print(f\"原始内容: {content}\")\n",
        "        return None\n",
        "    except Exception as e:\n",
        "        print(f\"❌ 导出过程中发生错误: {e}\")\n",
        "        import traceback\n",
        "        traceback.print_exc()\n",
        "        return None\n",
        "\n",
        "# 执行导出\n",
        "excel_file = export_vocabulary_to_excel(response, \"数字服务贸易术语表\")\n",
        "\n",
        "if excel_file:\n",
        "    print(f\"\\n🎉 导出完成！文件保存在: {excel_file}\")\n",
        "else:\n",
        "    print(\"\\n😞 导出失败，请检查数据和代码。\")"
      ],
      "metadata": {
        "colab": {
          "base_uri": "https://localhost:8080/"
        },
        "id": "uCJwqMFTWyhp",
        "outputId": "e25b2cf7-e0ac-4f8d-9ad9-61b25eb4dd4a"
      },
      "execution_count": 11,
      "outputs": [
        {
          "output_type": "stream",
          "name": "stdout",
          "text": [
            "API响应内容:\n",
            "以下是提取的中文术语及其英文翻译和解释，以JSON格式呈现：\n",
            "\n",
            "```json\n",
            "[\n",
            "  {\n",
            "    \"chinese\": \"数字服务贸易\",\n",
            "    \"english\": \"Digital Service Trade\",\n",
            "    \"explanation\": \"A type of cross-border service trade that is enabled by digital technologies, including services such as copyright and licensing fees, financial and insurance products, telecommunications, and professional and technical services.\"\n",
            "  },\n",
            "  {\n",
            "    \"chinese\": \"信息通信技术\",\n",
            "    \"english\": \"Information and Communication Technology (ICT)\",\n",
            "    \"explanation\": \"Technology that deals with the transmission of information and communication through various digital means.\"\n",
            "  },\n",
            "  {\n",
            "    \"chinese\": \"跨境服务贸易\",\n",
            "    \"english\": \"Cross-border Service Trade\",\n",
            "    \"explanation\": \"Trade in services that occurs between different countries.\"\n",
            "  },\n",
            "  {\n",
            "    \"chinese\": \"数字化交付服务\",\n",
            "    \"english\": \"Digitally Delivered Services\",\n",
            "    \"explanation\": \"Services traded across borders through information and communication networks, including services such as pension and insurance, financial services, and royalties for intellectual property.\"\n",
            "  },\n",
            "  {\n",
            "    \"chinese\": \"数字贸易\",\n",
            "    \"english\": \"Digital Trade\",\n",
            "    \"explanation\": \"Trade activities that rely on digital technologies, which may include both digital services and physical goods.\"\n",
            "  },\n",
            "  {\n",
            "    \"chinese\": \"数字订购贸易\",\n",
            "    \"english\": \"Digital Ordered Trade\",\n",
            "    \"explanation\": \"A category of digital trade where transactions are initiated through digital means.\"\n",
            "  },\n",
            "  {\n",
            "    \"chinese\": \"数字交付贸易\",\n",
            "    \"english\": \"Digital Delivered Trade\",\n",
            "    \"explanation\": \"A category of digital trade where services or products are delivered digitally across borders.\"\n",
            "  },\n",
            "  {\n",
            "    \"chinese\": \"数字技术贸易\",\n",
            "    \"english\": \"Digital Technology Trade\",\n",
            "    \"explanation\": \"A subset of digital trade that focuses on the trade of technologies that enable digital services.\"\n",
            "  },\n",
            "  {\n",
            "    \"chinese\": \"数字金融与保险\",\n",
            "    \"english\": \"Digital Finance and Insurance\",\n",
            "    \"explanation\": \"Financial and insurance services that are provided and delivered through digital platforms.\"\n",
            "  },\n",
            "  {\n",
            "    \"chinese\": \"管理与咨询\",\n",
            "    \"english\": \"Management and Consulting\",\n",
            "    \"explanation\": \"Traditional services such as management and consulting that are now delivered digitally.\"\n",
            "  },\n",
            "  {\n",
            "    \"chinese\": \"互联网平台服务\",\n",
            "    \"english\": \"Internet Platform Services\",\n",
            "    \"explanation\": \"Services provided via online platforms that facilitate various transactions and interactions.\"\n",
            "  },\n",
            "  {\n",
            "    \"chinese\": \"数据贸易\",\n",
            "    \"english\": \"Data Trade\",\n",
            "    \"explanation\": \"Trade in data, which can include various forms of digital information.\"\n",
            "  }\n",
            "]\n",
            "```\n",
            "\n",
            "请注意，这些术语的翻译和解释是基于给出的上下文，不同的学术文献或机构可能对这些术语有不同的定义。\n",
            "\n",
            "================================================================================\n",
            "\n",
            "✅ 数据已成功导出到: 数字服务贸易术语表.xlsx\n",
            "📊 共导出 12 条术语记录\n",
            "\n",
            "📋 数据预览:\n",
            "----------------------------------------------------------------------------------------------------\n",
            "中文术语            | 英文翻译                      | 解释说明\n",
            "----------------------------------------------------------------------------------------------------\n",
            "数字服务贸易          | Digital Service Trade     | A type of cross-border service trade tha...\n",
            "信息通信技术          | Information and Commun... | Technology that deals with the transmiss...\n",
            "跨境服务贸易          | Cross-border Service T... | Trade in services that occurs between di...\n",
            "数字化交付服务         | Digitally Delivered Se... | Services traded across borders through i...\n",
            "数字贸易            | Digital Trade             | Trade activities that rely on digital te...\n",
            "数字订购贸易          | Digital Ordered Trade     | A category of digital trade where transa...\n",
            "数字交付贸易          | Digital Delivered Trad... | A category of digital trade where servic...\n",
            "数字技术贸易          | Digital Technology Tra... | A subset of digital trade that focuses o...\n",
            "数字金融与保险         | Digital Finance and In... | Financial and insurance services that ar...\n",
            "管理与咨询           | Management and Consult... | Traditional services such as management ...\n",
            "互联网平台服务         | Internet Platform Serv... | Services provided via online platforms t...\n",
            "数据贸易            | Data Trade                | Trade in data, which can include various...\n",
            "\n",
            "🎉 导出完成！文件保存在: 数字服务贸易术语表.xlsx\n"
          ]
        }
      ]
    },
    {
      "cell_type": "markdown",
      "source": [
        "本案例知识点：\n",
        "\n",
        "1. 使用LLM输出JSON格式的结构化输出\n",
        "2. 使用正则表达式从纯文本中提取JSON格式数据\n",
        "3. 遍历JSON并读取数据"
      ],
      "metadata": {
        "id": "XaPSzfq4YGne"
      }
    },
    {
      "cell_type": "markdown",
      "source": [
        "**四、基于术语完成机器翻译**"
      ],
      "metadata": {
        "id": "DEbPRvNxorut"
      }
    },
    {
      "cell_type": "code",
      "source": [
        "#未融合术语前\n",
        "\n",
        "source = \"北京语言大学高级翻译学院开设了翻译专业本科\"\n",
        "\n",
        "prompt = \"请将这句话翻译成英文：\" + source\n",
        "\n",
        "response = client.chat.completions.create(\n",
        "    model=\"glm-4\",  # 填写需要调用的模型名称\n",
        "    messages=[\n",
        "        {\"role\": \"user\", \"content\": prompt}\n",
        "    ],\n",
        ")\n",
        "print(response.choices[0].message.content)"
      ],
      "metadata": {
        "colab": {
          "base_uri": "https://localhost:8080/"
        },
        "id": "c4d_tHEZo4YV",
        "outputId": "d79d3f7b-6a06-4fb0-b375-a7ba104e5394"
      },
      "execution_count": null,
      "outputs": [
        {
          "output_type": "stream",
          "name": "stdout",
          "text": [
            "Beijing Language and Culture University's School of Advanced Translation has established an undergraduate major in translation.\n"
          ]
        }
      ]
    },
    {
      "cell_type": "code",
      "source": [
        "#融合术语后\n",
        "\n",
        "source = \"北京语言大学高级翻译学院开设了翻译专业本科\"\n",
        "\n",
        "prompt = \"请将这句话翻译成英文：【\" + source + \"】，并严格参照以下术语：【北京语言大学：Beijing Language and Culture University】【高级翻译学院：School of Translation and Interpreting】【翻译专业本科: BTI program】\"\n",
        "\n",
        "response = client.chat.completions.create(\n",
        "    model=\"glm-4\",  # 填写需要调用的模型名称\n",
        "    messages=[\n",
        "        {\"role\": \"user\", \"content\": prompt}\n",
        "    ],\n",
        ")\n",
        "print(response.choices[0].message.content)"
      ],
      "metadata": {
        "colab": {
          "base_uri": "https://localhost:8080/"
        },
        "id": "iXUC0scGphGy",
        "outputId": "6be8b527-604b-4896-8957-72e792cf4a50"
      },
      "execution_count": null,
      "outputs": [
        {
          "output_type": "stream",
          "name": "stdout",
          "text": [
            "The Beijing Language and Culture University has established a Bachelor's program in Translation (BTI program) at the School of Translation and Interpreting.\n"
          ]
        }
      ]
    },
    {
      "cell_type": "code",
      "source": [
        "#将术语放到列表中\n",
        "\n",
        "terms = {\n",
        "\"北京语言大学\": \"Beijing Language and Culture University\",\n",
        "\"高级翻译学院\": \"School of Translation and Interpreting\",\n",
        "\"翻译专业本科\": \"BTI program\"\n",
        "}\n",
        "\n",
        "\n",
        "source = \"北京语言大学高级翻译学院开设了翻译专业本科\"\n",
        "\n",
        "termlist = \"\"\n",
        "\n",
        "for k,v in terms.items():\n",
        "  termlist += f\"\\n【{k}:{v}】\"\n",
        "\n",
        "prompt = f\"请将这句话翻译成英文:【{source}】,并严格参照以下术语:\" + termlist\n",
        "\n",
        "\n",
        "response = client.chat.completions.create(\n",
        "    model=\"glm-4\",  # 填写需要调用的模型名称\n",
        "    messages=[\n",
        "        {\"role\": \"user\", \"content\": prompt}\n",
        "    ],\n",
        ")\n",
        "print(response.choices[0].message.content)"
      ],
      "metadata": {
        "colab": {
          "base_uri": "https://localhost:8080/"
        },
        "id": "RTHUu5-tqY0_",
        "outputId": "dcd2c4f6-2c6d-463c-efde-f05c8258e7a4"
      },
      "execution_count": null,
      "outputs": [
        {
          "output_type": "stream",
          "name": "stdout",
          "text": [
            "The Beijing Language and Culture University has established an undergraduate program in translation in the School of Translation and Interpreting, known as the BTI program.\n"
          ]
        }
      ]
    },
    {
      "cell_type": "code",
      "source": [
        "#从Excel表格中读取术语\n",
        "\n",
        "import pandas as pd\n",
        "\n",
        "#从Excel表格读取术语\n",
        "terms_df = pd.read_excel('terms.xlsx')\n",
        "\n",
        "#把数据框转换成字典\n",
        "terms = dict(zip(terms_df['中文'], terms_df['英文']))\n",
        "\n",
        "source = \"北京语言大学高级翻译学院开设了翻译专业本科\"\n",
        "\n",
        "termlist = \"\"\n",
        "\n",
        "for k,v in terms.items():\n",
        "  termlist += f\"\\n【{k}:{v}】\"\n",
        "\n",
        "prompt = f\"请将这句话翻译成英文:【{source}】,并严格参照以下术语:\" + termlist\n",
        "\n",
        "\n",
        "response = client.chat.completions.create(\n",
        "    model=\"glm-4\",  # 填写需要调用的模型名称\n",
        "    messages=[\n",
        "        {\"role\": \"user\", \"content\": prompt}\n",
        "    ],\n",
        ")\n",
        "print(response.choices[0].message.content)\n"
      ],
      "metadata": {
        "colab": {
          "base_uri": "https://localhost:8080/"
        },
        "id": "WEo8MDOlrSsd",
        "outputId": "34b68170-43aa-4d3b-b971-8da1a2934d48"
      },
      "execution_count": null,
      "outputs": [
        {
          "output_type": "stream",
          "name": "stdout",
          "text": [
            "The Beijing Language and Culture University has established an undergraduate program in translation in the School of Translation and Interpreting, referred to as the BTI program.\n"
          ]
        }
      ]
    },
    {
      "cell_type": "code",
      "source": [
        "#从Excel表格中读取术语，与当前句子进行匹配，并将出现在术语表中的术语整合到prompt中\n",
        "\n",
        "import pandas as pd\n",
        "\n",
        "#从Excel表格读取术语\n",
        "terms_df = pd.read_excel('terms.xlsx')\n",
        "\n",
        "#把数据框转换成字典\n",
        "terms = dict(zip(terms_df['中文'], terms_df['英文']))\n",
        "\n",
        "source = \"北京外国语大学高级翻译学院没有开设翻译专业本科\"\n",
        "\n",
        "termlist = \"\"\n",
        "\n",
        "for k,v in terms.items():\n",
        "  if k in source:\n",
        "    termlist += f\"\\n【{k}:{v}】\"\n",
        "\n",
        "prompt = f\"请将这句话翻译成英文:【{source}】,并严格参照以下术语:\" + termlist\n",
        "\n",
        "print(prompt)\n",
        "\n",
        "response = client.chat.completions.create(\n",
        "    model=\"glm-4\",  # 填写需要调用的模型名称\n",
        "    messages=[\n",
        "        {\"role\": \"user\", \"content\": prompt}\n",
        "    ],\n",
        ")\n",
        "print(response.choices[0].message.content)\n"
      ],
      "metadata": {
        "colab": {
          "base_uri": "https://localhost:8080/"
        },
        "id": "5bp-9HNHss7l",
        "outputId": "9d60066d-779c-45d6-d629-efa95bcaf534"
      },
      "execution_count": null,
      "outputs": [
        {
          "output_type": "stream",
          "name": "stdout",
          "text": [
            "请将这句话翻译成英文:【北京外国语大学高级翻译学院没有开设翻译专业本科】,并严格参照以下术语:\n",
            "【高级翻译学院:School of Translation and Interpreting】\n",
            "【翻译专业本科:BTI program】\n",
            "The School of Translation and Interpreting at Beijing Foreign Studies University does not offer an undergraduate program in translation, referred to as the BTI program.\n"
          ]
        }
      ]
    },
    {
      "cell_type": "code",
      "source": [
        "#对一个句子列表进行遍历\n",
        "\n",
        "#从Excel表格中读取术语，与当前句子进行匹配，并将出现在术语表中的术语整合到prompt中\n",
        "\n",
        "import pandas as pd\n",
        "\n",
        "#从Excel表格读取术语\n",
        "terms_df = pd.read_excel('terms.xlsx')\n",
        "\n",
        "#把数据框转换成字典\n",
        "terms = dict(zip(terms_df['中文'], terms_df['英文']))\n",
        "\n",
        "sources = [\n",
        "  \"北京语言大学高级翻译学院开设了翻译专业本科\",\n",
        "  \"北京外国语大学高级翻译学院没有开设翻译专业本科\"\n",
        "  ]\n",
        "\n",
        "for source in sources:\n",
        "\n",
        "  termlist = \"\"\n",
        "\n",
        "  for k,v in terms.items():\n",
        "    if k in source:\n",
        "      termlist += f\"\\n【{k}:{v}】\"\n",
        "\n",
        "  prompt = f\"请将这句话翻译成英文:【{source}】,并严格参照以下术语:\" + termlist\n",
        "\n",
        "  print(prompt)\n",
        "\n",
        "  response = client.chat.completions.create(\n",
        "      model=\"glm-4\",  # 填写需要调用的模型名称\n",
        "      messages=[\n",
        "          {\"role\": \"user\", \"content\": prompt}\n",
        "      ],\n",
        "  )\n",
        "  print(response.choices[0].message.content)\n"
      ],
      "metadata": {
        "colab": {
          "base_uri": "https://localhost:8080/"
        },
        "id": "ToUDWFbZsMLS",
        "outputId": "0cd1df0f-2bb0-4e3c-b31e-9d456f5cc6f1"
      },
      "execution_count": null,
      "outputs": [
        {
          "output_type": "stream",
          "name": "stdout",
          "text": [
            "请将这句话翻译成英文:【北京语言大学高级翻译学院开设了翻译专业本科】,并严格参照以下术语:\n",
            "【北京语言大学:Beijing Language and Culture University】\n",
            "【高级翻译学院:School of Translation and Interpreting】\n",
            "【翻译专业本科:BTI program】\n",
            "The Beijing Language and Culture University has established an undergraduate program in translation in the School of Translation and Interpreting, referred to as the BTI program.\n",
            "请将这句话翻译成英文:【北京外国语大学高级翻译学院没有开设翻译专业本科】,并严格参照以下术语:\n",
            "【高级翻译学院:School of Translation and Interpreting】\n",
            "【翻译专业本科:BTI program】\n",
            "The School of Translation and Interpreting at Beijing Foreign Studies University does not offer an undergraduate program in translation, known as the BTI program.\n"
          ]
        }
      ]
    },
    {
      "cell_type": "markdown",
      "source": [
        "| 中文     | 英文                                      | 翻译建议                                                                                                                   |\n",
        "| ------ | --------------------------------------- | ---------------------------------------------------------------------------------------------------------------------- |\n",
        "| 北京语言大学 | Beijing Language and Culture University |\n",
        "| 高级翻译学院 | School of Translation and Interpreting  | 北京语言大学的高级翻译学院是School of Translation and Interpreting，北京外国语大学的高级翻译学院是：Graduate School of Translation and Interpretation |\n",
        "| 翻译专业本科 | BTI program                             |"
      ],
      "metadata": {
        "id": "4W5RRHMcvTO-"
      }
    },
    {
      "cell_type": "code",
      "source": [
        "#完善Excel表格，给术语添加翻译建议\n",
        "\n",
        "#高级翻译学院：北京语言大学的高级翻译学院是School of Translation and Interpreting，北京外国语大学的高级翻译学院是：Graduate School of Translation and Interpretation\n",
        "\n",
        "import pandas as pd\n",
        "\n",
        "# 从Excel表格读取术语\n",
        "terms_df = pd.read_excel('terms_with_reference.xlsx')\n",
        "\n",
        "# 以中文为key,英文为值的字典\n",
        "terms = dict(zip(terms_df['中文'], terms_df['英文']))\n",
        "\n",
        "# 另外保存翻译建议\n",
        "reference = dict(zip(terms_df['中文'], terms_df['翻译建议']))\n",
        "\n",
        "#对一个句子列表进行遍历\n",
        "sources = [\n",
        "  \"北京语言大学高级翻译学院开设了翻译专业本科\",\n",
        "  \"北京外国语大学高级翻译学院没有开设翻译专业本科\"\n",
        "  ]\n",
        "\n",
        "for source in sources:\n",
        "\n",
        "  termlist = \"\"\n",
        "\n",
        "  reference_str = \"\"\n",
        "\n",
        "  for k,v in terms.items():\n",
        "    if k in source:\n",
        "      termlist += f\"\\n【{k}:{v}】\"\n",
        "\n",
        "  # 添加翻译建议到提示中，跳过NaN值\n",
        "  for k, ref in reference.items():\n",
        "    if k in source and pd.notnull(ref):  # 使用pd.notnull()检查ref是否不是NaN\n",
        "      reference_str += f\"\\n【{k}:{ref}】\"\n",
        "\n",
        "  prompt = f\"请将这句话翻译成英文:【{source}】,并严格参照以下术语:{termlist},并参考以下翻译建议:{reference_str}\"\n",
        "\n",
        "  print(prompt)\n",
        "\n",
        "  response = client.chat.completions.create(\n",
        "      model=\"glm-4\",  # 填写需要调用的模型名称\n",
        "      messages=[\n",
        "          {\"role\": \"user\", \"content\": prompt}\n",
        "      ],\n",
        "  )\n",
        "  print(response.choices[0].message.content)\n"
      ],
      "metadata": {
        "colab": {
          "base_uri": "https://localhost:8080/"
        },
        "id": "8Lyfggm3uecH",
        "outputId": "2d5c6ee8-6253-45ed-b911-bd6587ced7e9"
      },
      "execution_count": null,
      "outputs": [
        {
          "output_type": "stream",
          "name": "stdout",
          "text": [
            "请将这句话翻译成英文:【北京语言大学高级翻译学院开设了翻译专业本科】,并严格参照以下术语:\n",
            "【北京语言大学:Beijing Language and Culture University】\n",
            "【高级翻译学院:School of Translation and Interpreting】\n",
            "【翻译专业本科:BTI program】,并参考以下翻译建议:\n",
            "【高级翻译学院:北京语言大学的高级翻译学院是School of Translation and Interpreting，北京外国语大学的高级翻译学院是：Graduate School of Translation and Interpretation】\n",
            "The School of Translation and Interpreting at Beijing Language and Culture University has established the Bachelor's program in Translation (BTI program), adhering strictly to the following terminology:\n",
            "- Beijing Language and Culture University: Beijing Language and Culture University\n",
            "- 高级翻译学院: School of Translation and Interpreting\n",
            "- 翻译专业本科: BTI program\n",
            "\n",
            "Furthermore, considering the translation suggestions provided:\n",
            "- The School of Translation and Interpreting at Beijing Language and Culture University is referred to as School of Translation and Interpreting, whereas the advanced translation school at Beijing Foreign Studies University is referred to as Graduate School of Translation and Interpretation.\n",
            "请将这句话翻译成英文:【北京外国语大学高级翻译学院没有开设翻译专业本科】,并严格参照以下术语:\n",
            "【高级翻译学院:School of Translation and Interpreting】\n",
            "【翻译专业本科:BTI program】,并参考以下翻译建议:\n",
            "【高级翻译学院:北京语言大学的高级翻译学院是School of Translation and Interpreting，北京外国语大学的高级翻译学院是：Graduate School of Translation and Interpretation】\n",
            "The Graduate School of Translation and Interpretation at Beijing Foreign Studies University does not offer an undergraduate program in translation, known as the BTI program.\n"
          ]
        }
      ]
    },
    {
      "cell_type": "code",
      "source": [
        "#将译文输出后与sources合并\n",
        "\n",
        "import pandas as pd\n",
        "\n",
        "# 从Excel表格读取术语\n",
        "terms_df = pd.read_excel('terms_with_reference.xlsx')\n",
        "\n",
        "# 以中文为key,英文为值的字典\n",
        "terms = dict(zip(terms_df['中文'], terms_df['英文']))\n",
        "\n",
        "# 另外保存翻译建议\n",
        "reference = dict(zip(terms_df['中文'], terms_df['翻译建议']))\n",
        "\n",
        "#对一个句子列表进行遍历\n",
        "sources = [\n",
        "  \"北京语言大学高级翻译学院开设了翻译专业本科\",\n",
        "  \"北京外国语大学高级翻译学院没有开设翻译专业本科\"\n",
        "  ]\n",
        "\n",
        "# 原文和译文对应的列表\n",
        "translated_pairs = []\n",
        "\n",
        "for source in sources:\n",
        "\n",
        "  termlist = \"\"\n",
        "\n",
        "  reference_str = \"\"\n",
        "\n",
        "  for k,v in terms.items():\n",
        "    if k in source:\n",
        "      termlist += f\"\\n【{k}:{v}】\"\n",
        "\n",
        "  # 添加翻译建议到提示中，跳过NaN值\n",
        "  for k, ref in reference.items():\n",
        "    if k in source and pd.notnull(ref):  # 使用pd.notnull()检查ref是否不是NaN\n",
        "      reference_str += f\"\\n【{k}:{ref}】\"\n",
        "\n",
        "  prompt = f\"请将这句话翻译成英文:【{source}】，并严格参照以下术语:{termlist}，并参考以下翻译建议:{reference_str}。最后仅输出译文即可。\"\n",
        "\n",
        "  #print(prompt)\n",
        "\n",
        "  response = client.chat.completions.create(\n",
        "      model=\"glm-4\",  # 填写需要调用的模型名称\n",
        "      messages=[\n",
        "          {\"role\": \"user\", \"content\": prompt}\n",
        "      ],\n",
        "  )\n",
        "  #print(response.choices[0].message.content)\n",
        "\n",
        "  translation = response.choices[0].message.content\n",
        "\n",
        "  # 将原文和译文作为一个元组添加到列表中\n",
        "  translated_pairs.append((source, translation))\n",
        "\n",
        "# 打印原文和译文对应的列表\n",
        "for pair in translated_pairs:\n",
        "    print(f\"原文: {pair[0]}\")\n",
        "    print(f\"译文: {pair[1]}\\n\")"
      ],
      "metadata": {
        "colab": {
          "base_uri": "https://localhost:8080/"
        },
        "id": "GZ3i37Blz_FS",
        "outputId": "7b825067-a233-42ef-a7c9-f3ff99a9f184"
      },
      "execution_count": null,
      "outputs": [
        {
          "output_type": "stream",
          "name": "stdout",
          "text": [
            "原文: 北京语言大学高级翻译学院开设了翻译专业本科\n",
            "译文: The School of Translation and Interpreting at Beijing Language and Culture University has established the BTI program.\n",
            "\n",
            "原文: 北京外国语大学高级翻译学院没有开设翻译专业本科\n",
            "译文: The Graduate School of Translation and Interpretation at Beijing Foreign Studies University does not offer a BTI program.\n",
            "\n"
          ]
        }
      ]
    },
    {
      "cell_type": "code",
      "source": [
        "#将待译的原文也放入一个Excel表格中\n",
        "\n",
        "import pandas as pd\n",
        "\n",
        "# 读取Excel文件，假设第一列是我们想要的中文句子\n",
        "sources_df = pd.read_excel('source.xlsx')  # usecols=[0]表示只读取第一列，skiprows=[0]表示跳过第一行\n",
        "\n",
        "# 将第一列的数据转换成一个列表，这将包含您的中文句子\n",
        "sources = sources_df.iloc[:, 0].tolist()\n",
        "\n",
        "# 从Excel表格读取术语\n",
        "terms_df = pd.read_excel('terms_with_reference.xlsx')\n",
        "\n",
        "# 以中文为key,英文为值的字典\n",
        "terms = dict(zip(terms_df['中文'], terms_df['英文']))\n",
        "\n",
        "# 另外保存翻译建议\n",
        "reference = dict(zip(terms_df['中文'], terms_df['翻译建议']))\n",
        "\n",
        "# 原文和译文对应的列表\n",
        "translated_pairs = []\n",
        "\n",
        "for source in sources:\n",
        "\n",
        "  termlist = \"\"\n",
        "\n",
        "  reference_str = \"\"\n",
        "\n",
        "  for k,v in terms.items():\n",
        "    if k in source:\n",
        "      termlist += f\"\\n【{k}:{v}】\"\n",
        "\n",
        "  # 添加翻译建议到提示中，跳过NaN值\n",
        "  for k, ref in reference.items():\n",
        "    if k in source and pd.notnull(ref):  # 使用pd.notnull()检查ref是否不是NaN\n",
        "      reference_str += f\"\\n【{k}:{ref}】\"\n",
        "\n",
        "  prompt = f\"请将这句话翻译成英文:【{source}】，并严格参照以下术语:{termlist}，并参考以下翻译建议:{reference_str}。最后仅输出译文即可。\"\n",
        "\n",
        "  #print(prompt)\n",
        "\n",
        "  response = client.chat.completions.create(\n",
        "      model=\"glm-4\",  # 填写需要调用的模型名称\n",
        "      messages=[\n",
        "          {\"role\": \"user\", \"content\": prompt}\n",
        "      ],\n",
        "  )\n",
        "  #print(response.choices[0].message.content)\n",
        "\n",
        "  translation = response.choices[0].message.content\n",
        "\n",
        "  # 将原文和译文作为一个元组添加到列表中\n",
        "  translated_pairs.append((source, translation))\n",
        "\n",
        "# 打印原文和译文对应的列表\n",
        "for pair in translated_pairs:\n",
        "    print(f\"原文: {pair[0]}\")\n",
        "    print(f\"译文: {pair[1]}\\n\")"
      ],
      "metadata": {
        "colab": {
          "base_uri": "https://localhost:8080/"
        },
        "id": "Y_dqv_0m2BP9",
        "outputId": "15c01638-2001-405e-ae35-7b9a34073516"
      },
      "execution_count": null,
      "outputs": [
        {
          "output_type": "stream",
          "name": "stdout",
          "text": [
            "原文: 北京语言大学高级翻译学院开设了翻译专业本科。\n",
            "译文: The Beijing Language and Culture University has established a BTI program in the School of Translation and Interpreting.\n",
            "\n",
            "原文: 北京外国语大学高级翻译学院没有开设翻译专业本科。\n",
            "译文: The Graduate School of Translation and Interpretation at Beijing Foreign Studies University does not offer an undergraduate BTI program.\n",
            "\n"
          ]
        }
      ]
    },
    {
      "cell_type": "code",
      "source": [
        "#将译文插入Excel表格的第二列\n",
        "\n",
        "import pandas as pd\n",
        "\n",
        "# 读取Excel文件，假设第一列是我们想要的中文句子\n",
        "sources_df = pd.read_excel('source.xlsx')  # usecols=[0]表示只读取第一列，skiprows=[0]表示跳过第一行\n",
        "\n",
        "# 从Excel表格读取术语\n",
        "terms_df = pd.read_excel('terms_with_reference.xlsx')\n",
        "\n",
        "# 以中文为key,英文为值的字典\n",
        "terms = dict(zip(terms_df['中文'], terms_df['英文']))\n",
        "\n",
        "# 另外保存翻译建议\n",
        "reference = dict(zip(terms_df['中文'], terms_df['翻译建议']))\n",
        "\n",
        "# 遍历sources_df中的每一行\n",
        "for i, row in sources_df.iterrows():\n",
        "  source = row[0]  # 假设中文句子位于第一列\n",
        "  termlist = \"\"\n",
        "  reference_str = \"\"\n",
        "\n",
        "  for k,v in terms.items():\n",
        "    if k in source:\n",
        "      termlist += f\"\\n【{k}:{v}】\"\n",
        "\n",
        "  # 添加翻译建议到提示中，跳过NaN值\n",
        "  for k, ref in reference.items():\n",
        "    if k in source and pd.notnull(ref):  # 使用pd.notnull()检查ref是否不是NaN\n",
        "      reference_str += f\"\\n【{k}:{ref}】\"\n",
        "\n",
        "  prompt = f\"请将这句话翻译成英文:【{source}】，并严格参照以下术语:{termlist}，并参考以下翻译建议:{reference_str}。最后仅输出译文即可。\"\n",
        "\n",
        "  #print(prompt)\n",
        "\n",
        "  response = client.chat.completions.create(\n",
        "      model=\"glm-4\",  # 填写需要调用的模型名称\n",
        "      messages=[\n",
        "          {\"role\": \"user\", \"content\": prompt}\n",
        "      ],\n",
        "  )\n",
        "  #print(response.choices[0].message.content)\n",
        "\n",
        "  translation = response.choices[0].message.content\n",
        "\n",
        "  # 将译文插入source_df中\n",
        "  sources_df.at[i, '英文'] = translation\n",
        "\n",
        "# 打印原文和译文对应的列表\n",
        "for index, row in sources_df.iterrows():\n",
        "    print(f\"原文: {row[0]}\")  # 假设中文句子位于第一列\n",
        "    print(f\"译文: {row['英文']}\\n\")  # 假设翻译结果位于名为“英文”的新列\n",
        "\n",
        "# 保存修改后的DataFrame回Excel文件\n",
        "sources_df.to_excel('translated_source.xlsx', index=False)"
      ],
      "metadata": {
        "colab": {
          "base_uri": "https://localhost:8080/"
        },
        "id": "kHIE_fdS3C2J",
        "outputId": "cb8c569d-2500-413c-8b82-5460228e0de0"
      },
      "execution_count": null,
      "outputs": [
        {
          "output_type": "stream",
          "name": "stdout",
          "text": [
            "原文: 北京语言大学高级翻译学院开设了翻译专业本科。\n",
            "译文: The School of Translation and Interpreting at Beijing Language and Culture University has launched the BTI program.\n",
            "\n",
            "原文: 北京外国语大学高级翻译学院没有开设翻译专业本科。\n",
            "译文: The Graduate School of Translation and Interpretation at Beijing Foreign Studies University does not offer an undergraduate BTI program.\n",
            "\n"
          ]
        }
      ]
    },
    {
      "cell_type": "markdown",
      "source": [
        "**五、调用外部机器翻译**"
      ],
      "metadata": {
        "id": "J5Uicv8t67L3"
      }
    },
    {
      "cell_type": "code",
      "source": [
        "#调用百度翻译\n",
        "\n",
        "# -*- coding: utf-8 -*-\n",
        "\n",
        "# This code shows an example of text translation from English to Simplified-Chinese.\n",
        "# This code runs on Python 2.7.x and Python 3.x.\n",
        "# You may install `requests` to run this code: pip install requests\n",
        "# Please refer to `https://api.fanyi.baidu.com/doc/21` for complete api document\n",
        "\n",
        "import requests\n",
        "import random\n",
        "import json\n",
        "from hashlib import md5\n",
        "\n",
        "# Set your own appid/appkey.\n",
        "appid = ''\n",
        "appkey = ''\n",
        "\n",
        "# For list of language codes, please refer to `https://api.fanyi.baidu.com/doc/21`\n",
        "from_lang = 'zh'\n",
        "to_lang =  'en'\n",
        "\n",
        "endpoint = 'http://api.fanyi.baidu.com'\n",
        "path = '/api/trans/vip/translate'\n",
        "url = endpoint + path\n",
        "\n",
        "query = '北京语言大学高级翻译学院开设了翻译专业本科。'\n",
        "\n",
        "# Generate salt and sign\n",
        "def make_md5(s, encoding='utf-8'):\n",
        "    return md5(s.encode(encoding)).hexdigest()\n",
        "\n",
        "salt = random.randint(32768, 65536)\n",
        "sign = make_md5(appid + query + str(salt) + appkey)\n",
        "\n",
        "# Build request\n",
        "headers = {'Content-Type': 'application/x-www-form-urlencoded'}\n",
        "payload = {'appid': appid, 'q': query, 'from': from_lang, 'to': to_lang, 'salt': salt, 'sign': sign}\n",
        "\n",
        "# Send request\n",
        "r = requests.post(url, params=payload, headers=headers)\n",
        "result = r.json()\n",
        "\n",
        "# Show response\n",
        "print(json.dumps(result, indent=4, ensure_ascii=False))\n",
        "\n"
      ],
      "metadata": {
        "colab": {
          "base_uri": "https://localhost:8080/"
        },
        "id": "IYFnbhiM7Cbd",
        "outputId": "d9079ba7-9372-4e8c-b665-a8368e9ffb2b"
      },
      "execution_count": null,
      "outputs": [
        {
          "output_type": "stream",
          "name": "stdout",
          "text": [
            "{\n",
            "    \"from\": \"zh\",\n",
            "    \"to\": \"en\",\n",
            "    \"trans_result\": [\n",
            "        {\n",
            "            \"src\": \"北京语言大学高级翻译学院开设了翻译专业本科。\",\n",
            "            \"dst\": \"The School of Advanced Translation at Beijing Language and Culture University offers a bachelor's degree in translation.\"\n",
            "        }\n",
            "    ]\n",
            "}\n"
          ]
        }
      ]
    },
    {
      "cell_type": "code",
      "source": [
        "#将百度翻译的官方代码转换成一个函数\n",
        "\n",
        "import requests\n",
        "import random\n",
        "from hashlib import md5\n",
        "import json\n",
        "\n",
        "# Set your own appid/appkey.\n",
        "appid = ''\n",
        "appkey = ''\n",
        "\n",
        "# For list of language codes, please refer to `https://api.fanyi.baidu.com/doc/21`\n",
        "endpoint = 'http://api.fanyi.baidu.com'\n",
        "path = '/api/trans/vip/translate'\n",
        "\n",
        "# Function to generate md5 hash\n",
        "def make_md5(s, encoding='utf-8'):\n",
        "    return md5(s.encode(encoding)).hexdigest()\n",
        "\n",
        "# The main translation function\n",
        "def baidu_translate(query, from_lang, to_lang):\n",
        "    url = endpoint + path\n",
        "\n",
        "    # Generate salt and sign\n",
        "    salt = random.randint(32768, 65536)\n",
        "    sign = make_md5(appid + query + str(salt) + appkey)\n",
        "\n",
        "    # Build request\n",
        "    headers = {'Content-Type': 'application/x-www-form-urlencoded'}\n",
        "    payload = {'appid': appid, 'q': query, 'from': from_lang, 'to': to_lang, 'salt': salt, 'sign': sign}\n",
        "\n",
        "    # Send request\n",
        "    r = requests.post(url, params=payload, headers=headers)\n",
        "    result = r.json()\n",
        "\n",
        "    # Extract and return the translated text\n",
        "    return result['trans_result'][0]['dst']\n",
        "\n",
        "# Example usage:\n",
        "translated_text = baidu_translate('北京语言大学高级翻译学院开设了翻译专业本科。', 'zh', 'en')\n",
        "print(translated_text)\n"
      ],
      "metadata": {
        "colab": {
          "base_uri": "https://localhost:8080/"
        },
        "id": "lsm4roKr8lpw",
        "outputId": "921f51c0-4371-4dc2-8ace-364bed9c5c0a"
      },
      "execution_count": null,
      "outputs": [
        {
          "output_type": "stream",
          "name": "stdout",
          "text": [
            "The School of Advanced Translation at Beijing Language and Culture University offers a bachelor's degree in translation.\n"
          ]
        }
      ]
    },
    {
      "cell_type": "code",
      "source": [
        "#将百度的baidu_translate()函数与之前的函数相结合，用百度翻译来翻译Excel表格的第一列，然后将译文放到输出文档的第三列，并标识为“百度翻译”\n",
        "\n",
        "import pandas as pd\n",
        "\n",
        "# 读取Excel文件，假设第一列是我们想要的中文句子\n",
        "sources_df = pd.read_excel('source.xlsx')  # usecols=[0]表示只读取第一列，skiprows=[0]表示跳过第一行\n",
        "\n",
        "# 从Excel表格读取术语\n",
        "terms_df = pd.read_excel('terms_with_reference.xlsx')\n",
        "\n",
        "# 以中文为key,英文为值的字典\n",
        "terms = dict(zip(terms_df['中文'], terms_df['英文']))\n",
        "\n",
        "# 另外保存翻译建议\n",
        "reference = dict(zip(terms_df['中文'], terms_df['翻译建议']))\n",
        "\n",
        "# 遍历sources_df中的每一行\n",
        "for i, row in sources_df.iterrows():\n",
        "  source = row[0]  # 假设中文句子位于第一列\n",
        "  termlist = \"\"\n",
        "  reference_str = \"\"\n",
        "\n",
        "  for k,v in terms.items():\n",
        "    if k in source:\n",
        "      termlist += f\"\\n【{k}:{v}】\"\n",
        "\n",
        "  # 添加翻译建议到提示中，跳过NaN值\n",
        "  for k, ref in reference.items():\n",
        "    if k in source and pd.notnull(ref):  # 使用pd.notnull()检查ref是否不是NaN\n",
        "      reference_str += f\"\\n【{k}:{ref}】\"\n",
        "\n",
        "  prompt = f\"请将这句话翻译成英文:【{source}】，并严格参照以下术语:{termlist}，并参考以下翻译建议:{reference_str}。最后仅输出译文即可。\"\n",
        "\n",
        "  #print(prompt)\n",
        "\n",
        "  response = client.chat.completions.create(\n",
        "      model=\"glm-4\",  # 填写需要调用的模型名称\n",
        "      messages=[\n",
        "          {\"role\": \"user\", \"content\": prompt}\n",
        "      ],\n",
        "  )\n",
        "  #print(response.choices[0].message.content)\n",
        "\n",
        "  translation = response.choices[0].message.content\n",
        "\n",
        "  # 将译文插入source_df中\n",
        "  sources_df.at[i, 'GLM译文'] = translation\n",
        "\n",
        "  # 使用baidu_translate函数进行翻译\n",
        "  translation_baidu = baidu_translate(source, 'zh', 'en')\n",
        "\n",
        "  # 将翻译结果插入第三列，并标注为“百度翻译”\n",
        "  sources_df.at[i, '百度翻译'] = translation_baidu\n",
        "\n",
        "# 打印原文和译文对应的列表\n",
        "for index, row in sources_df.iterrows():\n",
        "    print(f\"原文: {row[0]}\")  # 假设中文句子位于第一列\n",
        "    print(f\"GLM译文: {row['GLM译文']}\\n\")  # 假设翻译结果位于名为“英文”的新列\n",
        "    print(f\"百度译文: {row['百度翻译']}\\n\")  # 假设翻译结果位于名为“英文”的新列\n",
        "\n",
        "# 保存修改后的DataFrame回Excel文件\n",
        "sources_df.to_excel('translated_source.xlsx', index=False)\n"
      ],
      "metadata": {
        "colab": {
          "base_uri": "https://localhost:8080/"
        },
        "id": "tRHOBeAR9LRL",
        "outputId": "8927bd1c-15dd-4a02-eb06-b01cb690a5d6"
      },
      "execution_count": null,
      "outputs": [
        {
          "output_type": "stream",
          "name": "stdout",
          "text": [
            "原文: 北京语言大学高级翻译学院开设了翻译专业本科。\n",
            "GLM译文: The School of Translation and Interpreting at Beijing Language and Culture University has established a BTI program.\n",
            "\n",
            "百度译文: The School of Advanced Translation at Beijing Language and Culture University offers a bachelor's degree in translation.\n",
            "\n",
            "原文: 北京外国语大学高级翻译学院没有开设翻译专业本科。\n",
            "GLM译文: The Graduate School of Translation and Interpretation at Beijing Foreign Studies University does not offer an undergraduate BTI program.\n",
            "\n",
            "百度译文: The School of Advanced Translation at Beijing Foreign Studies University does not offer a bachelor's degree in translation.\n",
            "\n"
          ]
        }
      ]
    },
    {
      "cell_type": "code",
      "source": [
        "#进一步将GLM的代码也变成一个函数，是代码更为简洁\n",
        "\n",
        "# 假设client是已经初始化的GLM客户端\n",
        "\n",
        "def glm_translate(source, termlist, reference_str):\n",
        "    # 构建prompt，包含术语列表和翻译建议\n",
        "    prompt = f\"请将这句话翻译成英文:【{source}】\"\n",
        "\n",
        "    if termlist:\n",
        "        prompt += f\"，并严格参照以下术语:{termlist}\"\n",
        "    if reference_str:\n",
        "        prompt += f\"，并参考以下翻译建议:{reference_str}\"\n",
        "    prompt += \"。最后仅输出译文即可。\"\n",
        "\n",
        "    # 调用GLM模型\n",
        "    response = client.chat.completions.create(\n",
        "        model=\"glm-4\",  # 填写需要调用的模型名称\n",
        "        messages=[\n",
        "            {\"role\": \"user\", \"content\": prompt}\n",
        "        ],\n",
        "    )\n",
        "\n",
        "    # 解析响应并提取翻译结果\n",
        "    translation = response.choices[0].message.content\n",
        "\n",
        "    return translation\n"
      ],
      "metadata": {
        "id": "YPjx_2yc-cN5"
      },
      "execution_count": null,
      "outputs": []
    },
    {
      "cell_type": "code",
      "source": [
        "#简化后的代码\n",
        "import pandas as pd\n",
        "\n",
        "# 读取Excel文件，假设第一列是我们想要的中文句子\n",
        "sources_df = pd.read_excel('source.xlsx')  # usecols=[0]表示只读取第一列，skiprows=[0]表示跳过第一行\n",
        "\n",
        "# 从Excel表格读取术语\n",
        "terms_df = pd.read_excel('terms_with_reference.xlsx')\n",
        "\n",
        "# 以中文为key,英文为值的字典\n",
        "terms = dict(zip(terms_df['中文'], terms_df['英文']))\n",
        "\n",
        "# 另外保存翻译建议\n",
        "reference = dict(zip(terms_df['中文'], terms_df['翻译建议']))\n",
        "\n",
        "# 遍历sources_df中的每一行\n",
        "for i, row in sources_df.iterrows():\n",
        "    source = row[0]  # 假设中文句子位于第一列\n",
        "    termlist = \"\"\n",
        "    reference_str = \"\"\n",
        "\n",
        "    # 构建术语列表和翻译建议字符串\n",
        "    for k, v in terms.items():\n",
        "        if k in source:\n",
        "            termlist += f\"\\n【{k}:{v}】\"\n",
        "\n",
        "    for k, ref in reference.items():\n",
        "        if k in source and pd.notnull(ref):\n",
        "            reference_str += f\"\\n【{k}:{ref}】\"\n",
        "\n",
        "    # 使用glm_translate函数获取GLM的翻译结果\n",
        "    translation_glm = glm_translate(source, termlist, reference_str)\n",
        "    sources_df.at[i, 'GLM译文'] = translation_glm\n",
        "\n",
        "    # 使用baidu_translate函数进行翻译\n",
        "    translation_baidu = baidu_translate(source, 'zh', 'en')\n",
        "    sources_df.at[i, '百度翻译'] = translation_baidu\n",
        "\n",
        "# 打印原文和译文对应的列表\n",
        "for index, row in sources_df.iterrows():\n",
        "    print(f\"原文: {row[0]}\")  # 假设中文句子位于第一列\n",
        "    print(f\"GLM译文: {row['GLM译文']}\\n\")  # 假设翻译结果位于名为“GLM译文”的列\n",
        "    print(f\"百度译文: {row['百度翻译']}\\n\")  # 假设翻译结果位于名为“百度翻译”的列\n",
        "\n",
        "# 保存修改后的DataFrame回Excel文件\n",
        "sources_df.to_excel('translated_source.xlsx', index=False)"
      ],
      "metadata": {
        "colab": {
          "base_uri": "https://localhost:8080/"
        },
        "id": "dyAQka2N_hfy",
        "outputId": "9432bdb1-69a4-4e0a-d586-eebf9a93a2f9"
      },
      "execution_count": null,
      "outputs": [
        {
          "output_type": "stream",
          "name": "stdout",
          "text": [
            "原文: 北京语言大学高级翻译学院开设了翻译专业本科。\n",
            "GLM译文: The Beijing Language and Culture University has established a BTI program in the School of Translation and Interpreting.\n",
            "\n",
            "百度译文: The School of Advanced Translation at Beijing Language and Culture University offers a bachelor's degree in translation.\n",
            "\n",
            "原文: 北京外国语大学高级翻译学院没有开设翻译专业本科。\n",
            "GLM译文: The Graduate School of Translation and Interpretation at Beijing Foreign Studies University does not offer an undergraduate BTI program.\n",
            "\n",
            "百度译文: The School of Advanced Translation at Beijing Foreign Studies University does not offer a bachelor's degree in translation.\n",
            "\n"
          ]
        }
      ]
    },
    {
      "cell_type": "code",
      "source": [
        "#继续优化glm_translate()代码，接收两个参数：source.xlsx和terms.xlsx表格，输出的结果是translated_source.xlsx表格\n",
        "\n",
        "import pandas as pd\n",
        "\n",
        "def translate_and_save(source_file, terms_file, output_file):\n",
        "    # 读取Excel文件，假设第一列是我们想要的中文句子\n",
        "    sources_df = pd.read_excel(source_file)\n",
        "\n",
        "    # 从Excel表格读取术语\n",
        "    terms_df = pd.read_excel(terms_file)\n",
        "\n",
        "    # 以中文为key,英文为值的字典\n",
        "    terms = dict(zip(terms_df['中文'], terms_df['英文']))\n",
        "\n",
        "    # 另外保存翻译建议\n",
        "    reference = dict(zip(terms_df['中文'], terms_df['翻译建议']))\n",
        "\n",
        "    # 遍历sources_df中的每一行\n",
        "    for i, row in sources_df.iterrows():\n",
        "        source = row[0]  # 假设中文句子位于第一列\n",
        "        termlist = \"\"\n",
        "        reference_str = \"\"\n",
        "\n",
        "        # 构建术语列表和翻译建议字符串\n",
        "        for k, v in terms.items():\n",
        "            if k in source:\n",
        "                termlist += f\"\\n【{k}:{v}】\"\n",
        "\n",
        "        for k, ref in reference.items():\n",
        "            if k in source and pd.notnull(ref):\n",
        "                reference_str += f\"\\n【{k}:{ref}】\"\n",
        "\n",
        "        # 使用glm_translate函数获取GLM的翻译结果\n",
        "        translation_glm = glm_translate(source, termlist, reference_str)\n",
        "        sources_df.at[i, 'GLM译文'] = translation_glm\n",
        "\n",
        "        # 使用baidu_translate函数进行翻译\n",
        "        translation_baidu = baidu_translate(source, 'zh', 'en')\n",
        "        sources_df.at[i, '百度翻译'] = translation_baidu\n",
        "\n",
        "    # 保存修改后的DataFrame回Excel文件\n",
        "    sources_df.to_excel(output_file, index=False)\n",
        "\n",
        "\n",
        "translate_and_save('source.xlsx', 'terms_with_reference.xlsx', 'translated_source.xlsx')\n"
      ],
      "metadata": {
        "id": "3JJVU-UYALCt"
      },
      "execution_count": null,
      "outputs": []
    },
    {
      "cell_type": "code",
      "source": [
        "# 预览导出的translated_source.xlsx表格的前几行\n",
        "translated_df = pd.read_excel('translated_source.xlsx')\n",
        "print(translated_df.head())"
      ],
      "metadata": {
        "colab": {
          "base_uri": "https://localhost:8080/"
        },
        "id": "UAVU7itgBHCw",
        "outputId": "462b7620-007a-46dd-9f86-db0ced10ae9b"
      },
      "execution_count": null,
      "outputs": [
        {
          "output_type": "stream",
          "name": "stdout",
          "text": [
            "                         中文  英文  \\\n",
            "0    北京语言大学高级翻译学院开设了翻译专业本科。 NaN   \n",
            "1  北京外国语大学高级翻译学院没有开设翻译专业本科。 NaN   \n",
            "\n",
            "                                               GLM译文  \\\n",
            "0  The School of Translation and Interpreting at ...   \n",
            "1  The Graduate School of Translation and Interpr...   \n",
            "\n",
            "                                                百度翻译  \n",
            "0  The School of Advanced Translation at Beijing ...  \n",
            "1  The School of Advanced Translation at Beijing ...  \n"
          ]
        }
      ]
    }
  ]
}